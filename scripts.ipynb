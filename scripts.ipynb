{
 "cells": [
  {
   "cell_type": "code",
   "execution_count": 2,
   "metadata": {},
   "outputs": [],
   "source": [
    "import pandas as pd\n",
    "import parser"
   ]
  },
  {
   "cell_type": "code",
   "execution_count": 3,
   "metadata": {},
   "outputs": [],
   "source": [
    "data = parser.parse(\"Assassins.txt\")"
   ]
  },
  {
   "cell_type": "code",
   "execution_count": 4,
   "metadata": {},
   "outputs": [
    {
     "name": "stdout",
     "output_type": "stream",
     "text": [
      "[('KETCHAM', 'Hey, this feels kinda good. '), ('KETCHAM', \"You're pretty famous aren't you? \"), ('RATH', \"It's possible. \"), ('RATH', 'Sure. '), ('KETCHAM', \"My Margaret... I loved her but you know what? I cheated on her. All the time. I don't even know why. It wasn't the sex, Margaret was great in bed. I think if I wasn't married I wouldn't have even looked at some of those women. I knew she couldn't trust me, so how could I trust her? If she was here right now I'd think that I would tell her that I was sorry... 'course, if she were here right now, maybe I wouldn't feel like talking. \"), ('RATH', 'Average. '), ('KETCHAM', \"I don't know. Part of me wanted to but part of me always said, 'What's she going to be able to do?' I don't know. Maybe I didn't trust her. \"), ('RATH', 'Why not? '), ('RATH', 'Just a little ways. Up to those trees. '), ('KETCHAM', \"I know this may seem like a strange question, but can I ask you how much the contract was for -- not to insult you or anything, I know you're a professional, but just for me, I was just wondering. \"), ('KETCHAM', 'I have been thinking about this for a long while. I knew this day was coming. I knew someday someone would make the call on me. I never thought about anyone that I had whacked. What do you call it anyway? '), ('KETCHAM', 'Shit... oh well. '), ('KETCHAM', \"Funny, I've never been a talker. My wife was always getting on me about that. 'Say what you feel, tell me what's bothering you, you ve got to talk to me.' I never would though. Not really. \"), ('RATH', 'Taken. '), ('RATH', \"It's a common question. \"), ('KETCHAM', 'Oh yeah? I guess we still need to see that price tag. Like art, right? You hang some painting that looks like baby-puke in your living room only if it costs a bundle. '), ('KETCHAM', 'Aw-shit! '), ('RATH', 'Everyone who plays the game knows the rules. '), ('KETCHAM', \"I think I've heard of you. \"), ('RATH', 'A dime. '), ('KETCHAM', 'How much farther? '), ('KETCHAM', \"Hey, do you mind if I talk a little? I feel like, I don't know, talking I guess. \"), ('KETCHAM', \"One hundred thousand? That's it? Jesus... Is that a lot? \"), ('KETCHAM', \"I always wondered what I'd be thinking at this exact moment. I imagined that I would be thinking about the fucker who contracted this, trying t o f i g u r e o u t w h o i t w a s . . . \"), ('KETCHAM', 'Oh, fuck it. '), ('KETCHAM', \"That's exactly what I told myself. \"), ('RATH', 'I hope not. '), ('KETCHAM', \"'Taken.' That's nice. When I had someone taken I would call our General Contractor, transfer the money and as soon as I hung up the phone I forgot about them. \")]\n"
     ]
    }
   ],
   "source": [
    "print(data)"
   ]
  },
  {
   "cell_type": "code",
   "execution_count": 12,
   "metadata": {},
   "outputs": [
    {
     "data": {
      "text/html": [
       "<div>\n",
       "<style scoped>\n",
       "    .dataframe tbody tr th:only-of-type {\n",
       "        vertical-align: middle;\n",
       "    }\n",
       "\n",
       "    .dataframe tbody tr th {\n",
       "        vertical-align: top;\n",
       "    }\n",
       "\n",
       "    .dataframe thead th {\n",
       "        text-align: right;\n",
       "    }\n",
       "</style>\n",
       "<table border=\"1\" class=\"dataframe\">\n",
       "  <thead>\n",
       "    <tr style=\"text-align: right;\">\n",
       "      <th></th>\n",
       "      <th>Character</th>\n",
       "      <th>Line</th>\n",
       "    </tr>\n",
       "  </thead>\n",
       "  <tbody>\n",
       "    <tr>\n",
       "      <th>0</th>\n",
       "      <td>KETCHAM</td>\n",
       "      <td>Hey, this feels kinda good.</td>\n",
       "    </tr>\n",
       "    <tr>\n",
       "      <th>1</th>\n",
       "      <td>KETCHAM</td>\n",
       "      <td>You're pretty famous aren't you?</td>\n",
       "    </tr>\n",
       "    <tr>\n",
       "      <th>2</th>\n",
       "      <td>RATH</td>\n",
       "      <td>It's possible.</td>\n",
       "    </tr>\n",
       "    <tr>\n",
       "      <th>3</th>\n",
       "      <td>RATH</td>\n",
       "      <td>Sure.</td>\n",
       "    </tr>\n",
       "    <tr>\n",
       "      <th>4</th>\n",
       "      <td>KETCHAM</td>\n",
       "      <td>My Margaret... I loved her but you know what? ...</td>\n",
       "    </tr>\n",
       "  </tbody>\n",
       "</table>\n",
       "</div>"
      ],
      "text/plain": [
       "  Character                                               Line\n",
       "0   KETCHAM                       Hey, this feels kinda good. \n",
       "1   KETCHAM                  You're pretty famous aren't you? \n",
       "2      RATH                                    It's possible. \n",
       "3      RATH                                             Sure. \n",
       "4   KETCHAM  My Margaret... I loved her but you know what? ..."
      ]
     },
     "execution_count": 12,
     "metadata": {},
     "output_type": "execute_result"
    }
   ],
   "source": [
    "#make pandas dataframe\n",
    "df = pd.DataFrame(data, columns=['Character', 'Line'])\n",
    "\n",
    "#first few rows\n",
    "df.head()"
   ]
  },
  {
   "cell_type": "code",
   "execution_count": 16,
   "metadata": {},
   "outputs": [
    {
     "data": {
      "text/plain": [
       "array(['KETCHAM', 'RATH'], dtype=object)"
      ]
     },
     "execution_count": 16,
     "metadata": {},
     "output_type": "execute_result"
    }
   ],
   "source": [
    "#unique characters\n",
    "df['Character'].unique()"
   ]
  },
  {
   "cell_type": "code",
   "execution_count": 42,
   "metadata": {},
   "outputs": [
    {
     "name": "stdout",
     "output_type": "stream",
     "text": [
      "110.83333333333333\n",
      "Counter({'I': 38, 'a': 8, 'you': 7, 'the': 7, 'was': 7, 'that': 7, 'to': 7, 'this': 5, 'would': 5, 'about': 5, 'but': 4, 'know': 4, \"don't\": 4, 'if': 4, 'of': 4, 'she': 4, 'me': 4, 'on': 3, 'think': 3, 'knew': 3, 'trust': 3, 'like': 3, 'always': 3, 'be': 3, 'for': 3, 'thinking': 3, 'call': 3, 'never': 3, 'what': 3, \"That's\": 3, 't': 3, 'o': 3, '.': 3, 'Hey,': 2, 'My': 2, 'her': 2, 'her.': 2, 'even': 2, \"wasn't\": 2, 'in': 2, \"wouldn't\": 2, 'have': 2, 'at': 2, 'some': 2, 'me,': 2, 'how': 2, 'here': 2, 'right': 2, \"I'd\": 2, 'tell': 2, 'feel': 2, 'know.': 2, 'much': 2, 'just': 2, 'been': 2, 'someone': 2, 'had': 2, 'do': 2, 'it': 2, \"I've\": 2, 'talk': 2, 'i': 2, 'u': 2, 'w': 2, 'as': 2, 'feels': 1, 'kinda': 1, 'good.': 1, \"You're\": 1, 'pretty': 1, 'famous': 1, \"aren't\": 1, 'you?': 1, 'Margaret...': 1, 'loved': 1, 'what?': 1, 'cheated': 1, 'All': 1, 'time.': 1, 'why.': 1, 'It': 1, 'sex,': 1, 'Margaret': 1, 'great': 1, 'bed.': 1, 'married': 1, 'looked': 1, 'those': 1, 'women.': 1, \"couldn't\": 1, 'so': 1, 'could': 1, 'her?': 1, 'If': 1, 'now': 1, 'sorry...': 1, \"'course,\": 1, 'were': 1, 'now,': 1, 'maybe': 1, 'talking.': 1, 'Part': 1, 'wanted': 1, 'part': 1, 'said,': 1, \"'What's\": 1, 'going': 1, 'able': 1, \"do?'\": 1, 'Maybe': 1, \"didn't\": 1, 'may': 1, 'seem': 1, 'strange': 1, 'question,': 1, 'can': 1, 'ask': 1, 'contract': 1, '--': 1, 'not': 1, 'insult': 1, 'or': 1, 'anything,': 1, \"you're\": 1, 'professional,': 1, 'wondering.': 1, 'long': 1, 'while.': 1, 'day': 1, 'coming.': 1, 'someday': 1, 'make': 1, 'me.': 1, 'thought': 1, 'anyone': 1, 'whacked.': 1, 'What': 1, 'anyway?': 1, 'Shit...': 1, 'oh': 1, 'well.': 1, 'Funny,': 1, 'talker.': 1, 'wife': 1, 'getting': 1, 'that.': 1, \"'Say\": 1, 'feel,': 1, \"what's\": 1, 'bothering': 1, 'you,': 1, 've': 1, 'got': 1, \"me.'\": 1, 'though.': 1, 'Not': 1, 'really.': 1, 'Oh': 1, 'yeah?': 1, 'guess': 1, 'we': 1, 'still': 1, 'need': 1, 'see': 1, 'price': 1, 'tag.': 1, 'Like': 1, 'art,': 1, 'right?': 1, 'You': 1, 'hang': 1, 'painting': 1, 'looks': 1, 'baby-puke': 1, 'your': 1, 'living': 1, 'room': 1, 'only': 1, 'costs': 1, 'bundle.': 1, 'Aw-shit!': 1, 'heard': 1, 'you.': 1, 'How': 1, 'farther?': 1, 'mind': 1, 'little?': 1, 'like,': 1, 'know,': 1, 'talking': 1, 'guess.': 1, 'One': 1, 'hundred': 1, 'thousand?': 1, 'it?': 1, 'Jesus...': 1, 'Is': 1, 'lot?': 1, 'wondered': 1, 'exact': 1, 'moment.': 1, 'imagined': 1, 'fucker': 1, 'who': 1, 'contracted': 1, 'this,': 1, 'trying': 1, 'f': 1, 'g': 1, 'r': 1, 'e': 1, 'h': 1, 's': 1, 'Oh,': 1, 'fuck': 1, 'it.': 1, 'exactly': 1, 'told': 1, 'myself.': 1, \"'Taken.'\": 1, 'nice.': 1, 'When': 1, 'taken': 1, 'our': 1, 'General': 1, 'Contractor,': 1, 'transfer': 1, 'money': 1, 'and': 1, 'soon': 1, 'hung': 1, 'up': 1, 'phone': 1, 'forgot': 1, 'them.': 1})\n"
     ]
    }
   ],
   "source": [
    "import collections\n",
    "\n",
    "#get certain character's rows\n",
    "rathline = df.loc[df['Character'] == 'KETCHAM']\n",
    "\n",
    "#mean of the len\n",
    "print(rathline['Line'].str.len().mean())\n",
    "\n",
    "#frequency of words\n",
    "words = []\n",
    "for line in rathline['Line']:\n",
    "    words += line.split()\n",
    "counts = collections.Counter(words)\n",
    "print(counts)\n"
   ]
  },
  {
   "cell_type": "code",
   "execution_count": null,
   "metadata": {},
   "outputs": [],
   "source": []
  }
 ],
 "metadata": {
  "kernelspec": {
   "display_name": "Python 3",
   "language": "python",
   "name": "python3"
  },
  "language_info": {
   "codemirror_mode": {
    "name": "ipython",
    "version": 3
   },
   "file_extension": ".py",
   "mimetype": "text/x-python",
   "name": "python",
   "nbconvert_exporter": "python",
   "pygments_lexer": "ipython3",
   "version": "3.6.5"
  }
 },
 "nbformat": 4,
 "nbformat_minor": 2
}
